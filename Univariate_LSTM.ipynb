{
  "cells": [
    {
      "cell_type": "markdown",
      "id": "5bdcdb08-be61-471b-b6a3-a8a9d714e9a5",
      "metadata": {
        "id": "5bdcdb08-be61-471b-b6a3-a8a9d714e9a5"
      },
      "source": [
        "<center>\n",
        "    <h2 style=\"font-size: 30px\" >Data Preparation</h2>\n",
        "</center>"
      ]
    },
    {
      "cell_type": "code",
      "execution_count": 1,
      "id": "e88743ed-dbce-4fcf-8ab9-54562e9df62c",
      "metadata": {
        "id": "e88743ed-dbce-4fcf-8ab9-54562e9df62c"
      },
      "outputs": [],
      "source": [
        "# Transform univariate time series to a supervised learning problem\n",
        "import numpy as np\n",
        "\n",
        "# Function to split a univariate sequence into samples\n",
        "def split_sequence(sequence, n_steps):\n",
        "    X, y = list(), list()  # Initialize empty lists\n",
        "\n",
        "    for i in range(len(sequence)):  # Iterate over sequence\n",
        "        # Find the end index of this pattern\n",
        "        end_ix = i + n_steps\n",
        "\n",
        "        # Check if we are beyond the sequence length\n",
        "        if end_ix >= len(sequence):  # Changed from `> len(sequence)-1` for clarity\n",
        "            break\n",
        "\n",
        "        # Gather input and output parts of the pattern\n",
        "        seq_x, seq_y = sequence[i:end_ix], sequence[end_ix]\n",
        "        X.append(seq_x)\n",
        "        y.append(seq_y)\n",
        "\n",
        "    return np.array(X), np.array(y)  # Convert lists to NumPy arrays\n"
      ]
    },
    {
      "cell_type": "code",
      "execution_count": 2,
      "id": "fb79069c-a340-4c34-aaeb-ba9c072b7190",
      "metadata": {
        "id": "fb79069c-a340-4c34-aaeb-ba9c072b7190",
        "outputId": "6903c0ad-699e-484b-cdbe-2918578872cf",
        "colab": {
          "base_uri": "https://localhost:8080/"
        }
      },
      "outputs": [
        {
          "output_type": "stream",
          "name": "stdout",
          "text": [
            "Input (X):\n",
            " [[10 20 30]\n",
            " [20 30 40]\n",
            " [30 40 50]\n",
            " [40 50 60]\n",
            " [50 60 70]\n",
            " [60 70 80]]\n",
            "Output (y):\n",
            " [40 50 60 70 80 90]\n"
          ]
        }
      ],
      "source": [
        "# Example usage\n",
        "sequence = [10, 20, 30, 40, 50, 60, 70, 80, 90]\n",
        "n_steps = 3\n",
        "X, y = split_sequence(sequence, n_steps)\n",
        "\n",
        "# Print results\n",
        "print(\"Input (X):\\n\", X)\n",
        "print(\"Output (y):\\n\", y)"
      ]
    },
    {
      "cell_type": "markdown",
      "id": "d266bbea-018a-449f-afd0-7ef4637adf7a",
      "metadata": {
        "id": "d266bbea-018a-449f-afd0-7ef4637adf7a"
      },
      "source": [
        "<center>\n",
        "    <h2 style=\"font-size: 30px\" >Vanilla LSTM</h2>\n",
        "</center>"
      ]
    },
    {
      "cell_type": "code",
      "execution_count": 3,
      "id": "dc5ad42e-265b-4629-9274-f928398bd12e",
      "metadata": {
        "id": "dc5ad42e-265b-4629-9274-f928398bd12e"
      },
      "outputs": [],
      "source": [
        "from keras.models import Sequential\n",
        "from keras.layers import Dense\n",
        "from keras.layers import LSTM"
      ]
    },
    {
      "cell_type": "code",
      "execution_count": 4,
      "id": "1a6770ca-fd22-4c02-a07b-37444d8773f7",
      "metadata": {
        "id": "1a6770ca-fd22-4c02-a07b-37444d8773f7"
      },
      "outputs": [],
      "source": [
        "# reshape from [samples, timesteps] into [samples, timesteps, features]\n",
        "n_features = 1\n",
        "X = X.reshape((X.shape[0], X.shape[1], n_features))"
      ]
    },
    {
      "cell_type": "code",
      "execution_count": 5,
      "id": "56a3d305-c2ab-436c-a814-c33d55c8db68",
      "metadata": {
        "id": "56a3d305-c2ab-436c-a814-c33d55c8db68",
        "outputId": "d80631ef-d7e0-46d8-f340-c59728d31dca",
        "colab": {
          "base_uri": "https://localhost:8080/"
        }
      },
      "outputs": [
        {
          "output_type": "stream",
          "name": "stderr",
          "text": [
            "/usr/local/lib/python3.11/dist-packages/keras/src/layers/rnn/rnn.py:200: UserWarning: Do not pass an `input_shape`/`input_dim` argument to a layer. When using Sequential models, prefer using an `Input(shape)` object as the first layer in the model instead.\n",
            "  super().__init__(**kwargs)\n"
          ]
        }
      ],
      "source": [
        "# define model\n",
        "model = Sequential()\n",
        "model.add(LSTM(50, activation='relu', input_shape=(n_steps, n_features)))\n",
        "model.add(Dense(1))\n",
        "model.compile(optimizer='adam', loss='mse')"
      ]
    },
    {
      "cell_type": "code",
      "execution_count": 6,
      "id": "7b0f8e30-6ff6-4c62-a761-663e162b2f77",
      "metadata": {
        "id": "7b0f8e30-6ff6-4c62-a761-663e162b2f77",
        "outputId": "42e10fbb-9507-4b7b-e6cf-ac5cbe314749",
        "colab": {
          "base_uri": "https://localhost:8080/"
        }
      },
      "outputs": [
        {
          "output_type": "execute_result",
          "data": {
            "text/plain": [
              "<keras.src.callbacks.history.History at 0x7b682e446810>"
            ]
          },
          "metadata": {},
          "execution_count": 6
        }
      ],
      "source": [
        "# fit model\n",
        "model.fit(X, y, epochs=200, verbose=0)"
      ]
    },
    {
      "cell_type": "code",
      "execution_count": 7,
      "id": "dfb317b7-9dfd-4434-82e2-91a9a3697ccf",
      "metadata": {
        "id": "dfb317b7-9dfd-4434-82e2-91a9a3697ccf"
      },
      "outputs": [],
      "source": [
        "# demonstrate prediction\n",
        "from numpy import array\n",
        "x_input = array([70, 80, 90])\n",
        "x_input = x_input.reshape((1, n_steps, n_features))\n",
        "yhat = model.predict(x_input, verbose=0)"
      ]
    },
    {
      "cell_type": "code",
      "execution_count": 8,
      "id": "ed3dba0f-ddb8-4020-a01b-ec0072f131c9",
      "metadata": {
        "id": "ed3dba0f-ddb8-4020-a01b-ec0072f131c9",
        "outputId": "7604e0c7-5f89-4196-8ce5-bab74269762a",
        "colab": {
          "base_uri": "https://localhost:8080/"
        }
      },
      "outputs": [
        {
          "output_type": "stream",
          "name": "stdout",
          "text": [
            "[[101.53132]]\n"
          ]
        }
      ],
      "source": [
        "print(yhat)"
      ]
    },
    {
      "cell_type": "markdown",
      "id": "40971cee-028d-4b8c-9dbe-2fc531c3cbfe",
      "metadata": {
        "id": "40971cee-028d-4b8c-9dbe-2fc531c3cbfe"
      },
      "source": [
        "<center>\n",
        "    <h2 style=\"font-size: 30px\" >Stacked LSTM</h2>\n",
        "</center>"
      ]
    },
    {
      "cell_type": "markdown",
      "id": "fbff88eb-a77f-4692-b49f-42cf5320ce71",
      "metadata": {
        "id": "fbff88eb-a77f-4692-b49f-42cf5320ce71"
      },
      "source": [
        "![image.png](attachment:d196046c-ca84-4764-a96f-ee04e191591e.png)"
      ]
    },
    {
      "cell_type": "code",
      "execution_count": null,
      "id": "6341b455-c379-4e5a-a532-574b86355ecf",
      "metadata": {
        "id": "6341b455-c379-4e5a-a532-574b86355ecf"
      },
      "outputs": [],
      "source": [
        "# define model\n",
        "model = Sequential()\n",
        "model.add(LSTM(50, activation='relu', return_sequences=True, input_shape=(n_steps,\n",
        "n_features)))\n",
        "model.add(LSTM(100, activation='relu'))\n",
        "model.add(Dense(1))\n",
        "model.compile(optimizer='adam', loss='mse')"
      ]
    },
    {
      "cell_type": "code",
      "execution_count": null,
      "id": "a6461563-7816-472e-968d-3e197f096932",
      "metadata": {
        "id": "a6461563-7816-472e-968d-3e197f096932",
        "outputId": "b24d597c-7435-4e26-f82b-0fe26e3bf139"
      },
      "outputs": [
        {
          "data": {
            "text/plain": [
              "<keras.src.callbacks.history.History at 0x1da9e37a360>"
            ]
          },
          "execution_count": 77,
          "metadata": {},
          "output_type": "execute_result"
        }
      ],
      "source": [
        "# fit model\n",
        "model.fit(X, y, epochs=200, verbose=0)"
      ]
    },
    {
      "cell_type": "code",
      "execution_count": null,
      "id": "757b4458-38e9-4b95-b87c-163c2a7feddc",
      "metadata": {
        "id": "757b4458-38e9-4b95-b87c-163c2a7feddc",
        "outputId": "e9602a0f-6fe2-4017-995f-64f24895033e"
      },
      "outputs": [
        {
          "name": "stdout",
          "output_type": "stream",
          "text": [
            "[[103.88315]]\n"
          ]
        }
      ],
      "source": [
        "# demonstrate prediction\n",
        "x_input = array([70, 80, 90])\n",
        "x_input = x_input.reshape((1, n_steps, n_features))\n",
        "yhat = model.predict(x_input, verbose=0)\n",
        "print(yhat)"
      ]
    },
    {
      "cell_type": "markdown",
      "id": "5cca3c0c-8a57-4641-bd39-4f38c2a58a4c",
      "metadata": {
        "id": "5cca3c0c-8a57-4641-bd39-4f38c2a58a4c"
      },
      "source": [
        "<center>\n",
        "    <h2 style=\"font-size: 30px\" >Bidirectional LSTM</h2>\n",
        "</center>"
      ]
    },
    {
      "cell_type": "code",
      "execution_count": null,
      "id": "c627a040-baac-451e-aee1-db1ee3708de4",
      "metadata": {
        "id": "c627a040-baac-451e-aee1-db1ee3708de4"
      },
      "outputs": [],
      "source": [
        "from keras.layers import Bidirectional"
      ]
    },
    {
      "cell_type": "code",
      "execution_count": null,
      "id": "6cb7bca5-328b-4fd0-916b-f1be61f1fa1c",
      "metadata": {
        "id": "6cb7bca5-328b-4fd0-916b-f1be61f1fa1c",
        "outputId": "bfac72e6-236d-4686-8cfb-332de640301c"
      },
      "outputs": [
        {
          "name": "stderr",
          "output_type": "stream",
          "text": [
            "C:\\Users\\nithi\\anaconda3\\Lib\\site-packages\\keras\\src\\layers\\rnn\\bidirectional.py:107: UserWarning: Do not pass an `input_shape`/`input_dim` argument to a layer. When using Sequential models, prefer using an `Input(shape)` object as the first layer in the model instead.\n",
            "  super().__init__(**kwargs)\n"
          ]
        }
      ],
      "source": [
        "# define model\n",
        "model = Sequential()\n",
        "model.add(Bidirectional(LSTM(50, activation='relu'), input_shape=(n_steps, n_features)))\n",
        "model.add(Dense(1))\n",
        "model.compile(optimizer='adam', loss='mse')"
      ]
    },
    {
      "cell_type": "code",
      "execution_count": null,
      "id": "2ab8d0b7-b6ca-4e8f-966b-e6342be69a81",
      "metadata": {
        "id": "2ab8d0b7-b6ca-4e8f-966b-e6342be69a81",
        "outputId": "b88118aa-ffbf-4242-8dff-227f673501fb"
      },
      "outputs": [
        {
          "name": "stdout",
          "output_type": "stream",
          "text": [
            "[[101.810455]]\n"
          ]
        }
      ],
      "source": [
        "# fit model\n",
        "model.fit(X, y, epochs=200, verbose=0)\n",
        "# demonstrate prediction\n",
        "x_input = array([70, 80, 90])\n",
        "x_input = x_input.reshape((1, n_steps, n_features))\n",
        "yhat = model.predict(x_input, verbose=0)\n",
        "print(yhat)"
      ]
    },
    {
      "cell_type": "code",
      "execution_count": null,
      "id": "fefcd903-7029-4fe9-9ca3-75dfaeff5fb9",
      "metadata": {
        "id": "fefcd903-7029-4fe9-9ca3-75dfaeff5fb9"
      },
      "outputs": [],
      "source": []
    },
    {
      "cell_type": "code",
      "execution_count": null,
      "id": "d25e726c-ea9e-4ab3-a38f-e48330c06f39",
      "metadata": {
        "id": "d25e726c-ea9e-4ab3-a38f-e48330c06f39"
      },
      "outputs": [],
      "source": []
    }
  ],
  "metadata": {
    "kernelspec": {
      "display_name": "Python 3 (ipykernel)",
      "language": "python",
      "name": "python3"
    },
    "language_info": {
      "codemirror_mode": {
        "name": "ipython",
        "version": 3
      },
      "file_extension": ".py",
      "mimetype": "text/x-python",
      "name": "python",
      "nbconvert_exporter": "python",
      "pygments_lexer": "ipython3",
      "version": "3.12.3"
    },
    "colab": {
      "provenance": [],
      "toc_visible": true
    }
  },
  "nbformat": 4,
  "nbformat_minor": 5
}
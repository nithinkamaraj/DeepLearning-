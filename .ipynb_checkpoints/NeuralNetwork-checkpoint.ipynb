{
 "cells": [
  {
   "attachments": {},
   "cell_type": "markdown",
   "id": "e3aea975-3ed9-4282-b6f2-73e207b1788e",
   "metadata": {},
   "source": [
    "<center>\n",
    "  <h2 style=\"font-size: 30px\" >Neural Network</h2>\n",
    "</center>\n",
    "<p style=\"font-size: 15px\">A neural network is a machine learning program, or model, that makes decisions in a manner similar to the human brain, by using processes that mimic the way biological neurons work together to identify phenomena, weigh options and arrive at conclusions.</p>"
   ]
  },
  {
   "cell_type": "markdown",
   "id": "7ce803cc-25d9-4383-89b6-a54852d6bc2c",
   "metadata": {},
   "source": [
    "<center>\n",
    "  <h2 style=\"font-size: 30px\" >Neural Network Model</h2>\n",
    "</center>"
   ]
  },
  {
   "cell_type": "markdown",
   "id": "c2750d3e-5b67-4a34-91cf-a8d8f11bad45",
   "metadata": {},
   "source": [
    "<center>\n",
    "  <img src=\"https://www.ibm.com/content/dam/connectedassets-adobe-cms/worldwide-content/cdp/cf/ul/g/3a/b8/ICLH_Diagram_Batch_01_03-DeepNeuralNetwork.png\" alt=\"Description\" width=\"650\" height=\"450\">\n",
    "</center>"
   ]
  },
  {
   "cell_type": "markdown",
   "id": "4097470f-8873-46f6-a907-e264b41ce66d",
   "metadata": {},
   "source": [
    "<center>\n",
    "  <h2 style=\"font-size: 30px\" >Recurrent Neural Network</h2>\n",
    "</center>"
   ]
  },
  {
   "cell_type": "markdown",
   "id": "d86cb556-fcd0-41f0-85d4-2f0981ff8277",
   "metadata": {},
   "source": [
    "<center>\n",
    "  <img src=\"https://colah.github.io/posts/2015-08-Understanding-LSTMs/img/RNN-unrolled.png\" alt=\"Description\" width=\"750\" height=\"400\">\n",
    "</center>"
   ]
  },
  {
   "cell_type": "code",
   "execution_count": null,
   "id": "1a590538-1baf-491e-917f-3b892fa2b3dc",
   "metadata": {},
   "outputs": [],
   "source": []
  }
 ],
 "metadata": {
  "kernelspec": {
   "display_name": "Python 3 (ipykernel)",
   "language": "python",
   "name": "python3"
  },
  "language_info": {
   "codemirror_mode": {
    "name": "ipython",
    "version": 3
   },
   "file_extension": ".py",
   "mimetype": "text/x-python",
   "name": "python",
   "nbconvert_exporter": "python",
   "pygments_lexer": "ipython3",
   "version": "3.12.3"
  }
 },
 "nbformat": 4,
 "nbformat_minor": 5
}

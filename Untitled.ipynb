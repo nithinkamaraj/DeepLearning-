{
 "cells": [
  {
   "cell_type": "code",
   "execution_count": 1,
   "id": "57038125-9a6e-43e7-9dee-c54e9aeea1ab",
   "metadata": {},
   "outputs": [
    {
     "ename": "NameError",
     "evalue": "name 'git' is not defined",
     "output_type": "error",
     "traceback": [
      "\u001b[1;31m---------------------------------------------------------------------------\u001b[0m",
      "\u001b[1;31mNameError\u001b[0m                                 Traceback (most recent call last)",
      "Cell \u001b[1;32mIn[1], line 1\u001b[0m\n\u001b[1;32m----> 1\u001b[0m git\n",
      "\u001b[1;31mNameError\u001b[0m: name 'git' is not defined"
     ]
    }
   ],
   "source": [
    "git\n"
   ]
  },
  {
   "cell_type": "code",
   "execution_count": 3,
   "id": "16619453-e396-4f19-acf6-d094bb458bd7",
   "metadata": {
    "scrolled": true
   },
   "outputs": [
    {
     "name": "stdout",
     "output_type": "stream",
     "text": [
      "usage: git [-v | --version] [-h | --help] [-C <path>] [-c <name>=<value>]\n",
      "           [--exec-path[=<path>]] [--html-path] [--man-path] [--info-path]\n",
      "           [-p | --paginate | -P | --no-pager] [--no-replace-objects] [--no-lazy-fetch]\n",
      "           [--no-optional-locks] [--no-advice] [--bare] [--git-dir=<path>]\n",
      "           [--work-tree=<path>] [--namespace=<name>] [--config-env=<name>=<envvar>]\n",
      "           <command> [<args>]\n",
      "\n",
      "These are common Git commands used in various situations:\n",
      "\n",
      "start a working area (see also: git help tutorial)\n",
      "   clone      Clone a repository into a new directory\n",
      "   init       Create an empty Git repository or reinitialize an existing one\n",
      "\n",
      "work on the current change (see also: git help everyday)\n",
      "   add        Add file contents to the index\n",
      "   mv         Move or rename a file, a directory, or a symlink\n",
      "   restore    Restore working tree files\n",
      "   rm         Remove files from the working tree and from the index\n",
      "\n",
      "examine the history and state (see also: git help revisions)\n",
      "   bisect     Use binary search to find the commit that introduced a bug\n",
      "   diff       Show changes between commits, commit and working tree, etc\n",
      "   grep       Print lines matching a pattern\n",
      "   log        Show commit logs\n",
      "   show       Show various types of objects\n",
      "   status     Show the working tree status\n",
      "\n",
      "grow, mark and tweak your common history\n",
      "   backfill   Download missing objects in a partial clone\n",
      "   branch     List, create, or delete branches\n",
      "   commit     Record changes to the repository\n",
      "   merge      Join two or more development histories together\n",
      "   rebase     Reapply commits on top of another base tip\n",
      "   reset      Reset current HEAD to the specified state\n",
      "   switch     Switch branches\n",
      "   tag        Create, list, delete or verify a tag object signed with GPG\n",
      "\n",
      "collaborate (see also: git help workflows)\n",
      "   fetch      Download objects and refs from another repository\n",
      "   pull       Fetch from and integrate with another repository or a local branch\n",
      "   push       Update remote refs along with associated objects\n",
      "\n",
      "'git help -a' and 'git help -g' list available subcommands and some\n",
      "concept guides. See 'git help <command>' or 'git help <concept>'\n",
      "to read about a specific subcommand or concept.\n",
      "See 'git help git' for an overview of the system.\n"
     ]
    }
   ],
   "source": [
    "!git\n"
   ]
  },
  {
   "cell_type": "code",
   "execution_count": 13,
   "id": "3e03161a-8f2b-4515-b0c4-011b05b7d1cd",
   "metadata": {},
   "outputs": [],
   "source": [
    "!git remote add origin \"https://github.com/nithinkamaraj/DeepLearning-.git\"\n"
   ]
  },
  {
   "cell_type": "code",
   "execution_count": 25,
   "id": "4ce27723-ee1f-4ef8-b8e6-cebac5a35bca",
   "metadata": {},
   "outputs": [
    {
     "name": "stdout",
     "output_type": "stream",
     "text": [
      "On branch main\n",
      "\n",
      "No commits yet\n",
      "\n",
      "Untracked files:\n",
      "  (use \"git add <file>...\" to include in what will be committed)\n",
      "\t.ipynb_checkpoints/\n",
      "\tRocketEulerLagrangianModel/\n",
      "\tRocketMotorLagrangianModel/\n",
      "\tUntitled.ipynb\n",
      "\n",
      "nothing added to commit but untracked files present (use \"git add\" to track)\n"
     ]
    }
   ],
   "source": [
    "!git status \n"
   ]
  },
  {
   "cell_type": "code",
   "execution_count": 27,
   "id": "b80dbcc6-c9a3-47f9-9d9b-adf90441b85d",
   "metadata": {},
   "outputs": [
    {
     "name": "stderr",
     "output_type": "stream",
     "text": [
      "warning: in the working copy of '.ipynb_checkpoints/Untitled-checkpoint.ipynb', LF will be replaced by CRLF the next time Git touches it\n",
      "warning: adding embedded git repository: RocketEulerLagrangianModel\n",
      "hint: You've added another git repository inside your current repository.\n",
      "hint: Clones of the outer repository will not contain the contents of\n",
      "hint: the embedded repository and will not know how to obtain it.\n",
      "hint: If you meant to add a submodule, use:\n",
      "hint:\n",
      "hint: \tgit submodule add <url> RocketEulerLagrangianModel\n",
      "hint:\n",
      "hint: If you added this path by mistake, you can remove it from the\n",
      "hint: index with:\n",
      "hint:\n",
      "hint: \tgit rm --cached RocketEulerLagrangianModel\n",
      "hint:\n",
      "hint: See \"git help submodule\" for more information.\n",
      "hint: Disable this message with \"git config advice.addEmbeddedRepo false\"\n",
      "warning: adding embedded git repository: RocketMotorLagrangianModel\n",
      "warning: in the working copy of 'Untitled.ipynb', LF will be replaced by CRLF the next time Git touches it\n"
     ]
    }
   ],
   "source": [
    "!git add .\n"
   ]
  },
  {
   "cell_type": "code",
   "execution_count": 29,
   "id": "664a3a48-7b06-47d1-9749-83377bc1b049",
   "metadata": {},
   "outputs": [
    {
     "ename": "SyntaxError",
     "evalue": "invalid syntax (4273160918.py, line 1)",
     "output_type": "error",
     "traceback": [
      "\u001b[1;36m  Cell \u001b[1;32mIn[29], line 1\u001b[1;36m\u001b[0m\n\u001b[1;33m    git rm --cached RocketEulerLagrangianModel\u001b[0m\n\u001b[1;37m        ^\u001b[0m\n\u001b[1;31mSyntaxError\u001b[0m\u001b[1;31m:\u001b[0m invalid syntax\n"
     ]
    }
   ],
   "source": [
    "git rm --cached RocketEulerLagrangianModel\n",
    "git rm --cached RocketMotorLagrangianModel\n"
   ]
  },
  {
   "cell_type": "code",
   "execution_count": 39,
   "id": "7ccf5469-f80e-4b95-81ca-82a4eb5ba3f5",
   "metadata": {},
   "outputs": [
    {
     "name": "stderr",
     "output_type": "stream",
     "text": [
      "The system cannot find the file specified.\n",
      "The system cannot find the file specified.\n"
     ]
    }
   ],
   "source": [
    "!git submodule add <url-to-RocketEulerLagrangianModel-repo> RocketEulerLagrangianModel\n",
    "!git submodule add <url-to-RocketMotorLagrangianModel-repo> RocketMotorLagrangianModel\n"
   ]
  },
  {
   "cell_type": "code",
   "execution_count": 3,
   "id": "4ac9c258-9823-40c2-b816-b31a35fa01a2",
   "metadata": {},
   "outputs": [
    {
     "name": "stdout",
     "output_type": "stream",
     "text": [
      "Initialized empty Git repository in C:/Users/nithi/Documents/DeepLearning/.git/\n"
     ]
    }
   ],
   "source": [
    "!git init\n"
   ]
  },
  {
   "cell_type": "code",
   "execution_count": 7,
   "id": "86beb416-ba54-4ef7-a4aa-a060acecc5e6",
   "metadata": {},
   "outputs": [
    {
     "name": "stderr",
     "output_type": "stream",
     "text": [
      "warning: in the working copy of '.ipynb_checkpoints/Untitled-checkpoint.ipynb', LF will be replaced by CRLF the next time Git touches it\n",
      "warning: in the working copy of 'Untitled.ipynb', LF will be replaced by CRLF the next time Git touches it\n"
     ]
    }
   ],
   "source": [
    "!git add .\n"
   ]
  },
  {
   "cell_type": "code",
   "execution_count": 9,
   "id": "1f707547-13a1-4a34-878e-d5d5ca49ae90",
   "metadata": {},
   "outputs": [
    {
     "name": "stdout",
     "output_type": "stream",
     "text": [
      "[master (root-commit) 0a1b46e] Initial commit\n",
      " 2 files changed, 385 insertions(+)\n",
      " create mode 100644 .ipynb_checkpoints/Untitled-checkpoint.ipynb\n",
      " create mode 100644 Untitled.ipynb\n"
     ]
    }
   ],
   "source": [
    "!git commit -m \"Initial commit\"\n"
   ]
  },
  {
   "cell_type": "code",
   "execution_count": 11,
   "id": "7b5ef672-1246-493c-92f5-f13b24ac2ef2",
   "metadata": {},
   "outputs": [
    {
     "name": "stderr",
     "output_type": "stream",
     "text": [
      "error: src refspec main does not match any\n",
      "error: failed to push some refs to 'origin'\n"
     ]
    }
   ],
   "source": [
    "!git push -u origin main\n",
    "ror: failed to push some refs to 'origin'"
   ]
  },
  {
   "cell_type": "code",
   "execution_count": 17,
   "id": "c6eec574-0200-4b3c-8578-b702694a83f2",
   "metadata": {},
   "outputs": [
    {
     "name": "stderr",
     "output_type": "stream",
     "text": [
      "error: remote origin already exists.\n"
     ]
    }
   ],
   "source": [
    "!git remote add origin https://github.com/nithinkamaraj/DeepLearning-.git\n",
    "\n"
   ]
  },
  {
   "cell_type": "code",
   "execution_count": 19,
   "id": "0d3da5c2-c8b4-4538-bc90-3a9e4ffdc3af",
   "metadata": {},
   "outputs": [
    {
     "ename": "SyntaxError",
     "evalue": "invalid syntax (2642276387.py, line 1)",
     "output_type": "error",
     "traceback": [
      "\u001b[1;36m  Cell \u001b[1;32mIn[19], line 1\u001b[1;36m\u001b[0m\n\u001b[1;33m    git remote -v\u001b[0m\n\u001b[1;37m        ^\u001b[0m\n\u001b[1;31mSyntaxError\u001b[0m\u001b[1;31m:\u001b[0m invalid syntax\n"
     ]
    }
   ],
   "source": [
    "git remote -v\n"
   ]
  },
  {
   "cell_type": "code",
   "execution_count": null,
   "id": "df174b6e-095c-49a5-9275-8b807d1e1577",
   "metadata": {},
   "outputs": [],
   "source": [
    "git remote -v\n"
   ]
  }
 ],
 "metadata": {
  "kernelspec": {
   "display_name": "Python 3 (ipykernel)",
   "language": "python",
   "name": "python3"
  },
  "language_info": {
   "codemirror_mode": {
    "name": "ipython",
    "version": 3
   },
   "file_extension": ".py",
   "mimetype": "text/x-python",
   "name": "python",
   "nbconvert_exporter": "python",
   "pygments_lexer": "ipython3",
   "version": "3.12.3"
  }
 },
 "nbformat": 4,
 "nbformat_minor": 5
}

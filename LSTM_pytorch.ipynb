{
 "cells": [
  {
   "cell_type": "code",
   "execution_count": 12,
   "id": "4ac0f13f-cec0-4f89-8a31-b8d5edfefebb",
   "metadata": {},
   "outputs": [],
   "source": [
    "import torch   # Create tensor \n",
    "import torch.nn as nn # to weights and biases as part of neural network \n",
    "from torch.optim import Adam    # Adam is to fit the data, similar to stochastic gradient descent \n"
   ]
  },
  {
   "cell_type": "code",
   "execution_count": 14,
   "id": "9e3d2a71-b9c5-4383-8240-9ad422f90128",
   "metadata": {},
   "outputs": [],
   "source": [
    "import lightning as L\n",
    "from torch.utils.data import TensorDataset, DataLoader # Makes things easier "
   ]
  },
  {
   "cell_type": "code",
   "execution_count": 16,
   "id": "64365b13-8d93-418c-8704-f3879a37146d",
   "metadata": {},
   "outputs": [],
   "source": [
    "class LSTMbyHand(L.LightningModule):\n",
    "    def __init__(self):\n",
    "        \n",
    "         super().__init__() # Intialization using lighting module \n",
    "         mean = torch.tensor(0.0) # mean of standard normal distribution ( this is taken to be zero)\n",
    "         std =  torch.tensor(1.0) # std of normal distribuiton is set at one \n",
    "\n",
    "         self.wlr1 = nn.Parameter(torch.normal(mean=mean, std=std), requires_grad=True) # normal give as value betwen 0 to 1 from normal distribution graph\n",
    "         self.wlr2 = nn.Parameter(torch.normal(mean=mean, std=std), requires_grad=True)  \n",
    "         self.blr1 = nn.Parameter(torch.tensor(0.), requires_grad=True)   \n",
    "    \n",
    "         self.wpr1 = nn.Parameter(torch.normal(mean=mean, std=std), requires_grad=True) \n",
    "         self.wpr2 = nn.Parameter(torch.normal(mean=mean, std=std), requires_grad=True)  \n",
    "         self.bpr1 = nn.Parameter(torch.tensor(0.), requires_grad=True) \n",
    "        \n",
    "         self.wp1 = nn.Parameter(torch.normal(mean=mean, std=std), requires_grad=True) \n",
    "         self.wp2 = nn.Parameter(torch.normal(mean=mean, std=std), requires_grad=True)  \n",
    "         self.bp1 = nn.Parameter(torch.tensor(0.), requires_grad=True) \n",
    "\n",
    "         self.wo1 = nn.Parameter(torch.normal(mean=mean, std=std), requires_grad=True) \n",
    "         self.wo2 = nn.Parameter(torch.normal(mean=mean, std=std), requires_grad=True)  \n",
    "         self.bo1 = nn.Parameter(torch.tensor(0.), requires_grad=True) \n",
    "\n",
    "        \n",
    "    def lstm_unit(self, input_value, long_memory, short_memory):    \n",
    "        \n",
    "        #Does the LSTM Caclulatuion \n",
    "    \n",
    "        # Forget Gate : This calculates percentage of the long term to remember \n",
    "        long_remember_percent      =  torch.sigmoid((short_memory*self.wlr1) + (input_value*self.wlr2) + self.blr1)\n",
    "        \n",
    "        # Input Gate :  updating the cell state\n",
    "        potential_remember_percent =  torch.sigmoid(short_memory*self.wpr1 + input_value*self.wpr2 + self.bpr1)\n",
    "        potential_memory           =  torch.tanh(short_memory*self.wp1 + input_value*self.wp2 + self.bp1)\n",
    "        updated_long_memory        =  long_remember_percent*long_memory + potential_remember_percent*potential_memory \n",
    "\n",
    "        # Output Gate: calcualating new short term memory \n",
    "        output_percent            = torch.sigmoid(short_memory*self.wo1 + input_value*self.wo2 + self.bo1)\n",
    "        updated_short_memory       = torch.tanh(updated_long_memory)*output_percent\n",
    "\n",
    "        return ([updated_long_memory, updated_short_memory])\n",
    "    \n",
    "    def forward(self, input):\n",
    "        # Make as forward pass in the unrolled lstm \n",
    "        \n",
    "        long_memory =0\n",
    "        short_memory =0\n",
    "        \n",
    "        day1 = input[0]\n",
    "        day2 = input[1]\n",
    "        day3 = input[2]\n",
    "        day4 = input[3]\n",
    "\n",
    "        long_memory, short_memory = self.lstm_unit(day1, long_memory, short_memory)\n",
    "        long_memory, short_memory = self.lstm_unit(day2, long_memory, short_memory)\n",
    "        long_memory, short_memory = self.lstm_unit(day3, long_memory, short_memory)\n",
    "        long_memory, short_memory = self.lstm_unit(day4, long_memory, short_memory)\n",
    "\n",
    "        return short_memory\n",
    "        \n",
    "    def configure_optimizers(self):\n",
    "        # Configure Adam optimizer \n",
    "\n",
    "        return Adam(self.parameters())\n",
    "        \n",
    "    def training_step( self, batch, batch_idx):\n",
    "        \n",
    "        #  calculate loss and log the porgress\n",
    "\n",
    "        input_i, label_i = batch\n",
    "        output_i = self.forward(input_i[0])\n",
    "        loss = (output_i - label_i)**2\n",
    "\n",
    "        self.log(\"train_loss\", loss)\n",
    "\n",
    "        if(label_i==0):  \n",
    "            self.log(\"out_0\", output_i) # company A\n",
    "        else:\n",
    "            self.log(\"out_1\", output_i) # company B\n",
    "        return loss\n"
   ]
  },
  {
   "cell_type": "code",
   "execution_count": 18,
   "id": "c84954c2-d789-45ed-8cdc-7f01a3364c01",
   "metadata": {},
   "outputs": [
    {
     "name": "stdout",
     "output_type": "stream",
     "text": [
      "Compare observed and peridicated values\n",
      "company A observed =0, predicted = tensor(-0.0281)\n"
     ]
    }
   ],
   "source": [
    "model = LSTMbyHand()\n",
    "print(\"Compare observed and peridicated values\")\n",
    "print(\"company A observed =0, predicted =\", model(torch.tensor([0.,0.5,0.25,1.])).detach())"
   ]
  },
  {
   "cell_type": "code",
   "execution_count": 9,
   "id": "e20e6cdc-be6e-4e3d-812b-3772327f016b",
   "metadata": {},
   "outputs": [],
   "source": [
    "from pytorch_lightning.loggers import TensorBoardLogger\n",
    "logger = TensorBoardLogger(\"lightning_logs\", name=\"my_model\")"
   ]
  },
  {
   "cell_type": "code",
   "execution_count": 20,
   "id": "fd27f4af-c45c-4bdd-88c4-9ced45d844e8",
   "metadata": {},
   "outputs": [
    {
     "name": "stdout",
     "output_type": "stream",
     "text": [
      "Compare observed and predicted values\n",
      "Company A observed = 0, predicted = tensor(0.5878)\n"
     ]
    }
   ],
   "source": [
    "model = LSTMbyHand()\n",
    "\n",
    "print(\"Compare observed and predicted values\")\n",
    "\n",
    "input_data = torch.tensor([0., 0.5, 0.25, 1.])  # Ensure correct tensor type\n",
    "predicted_value = model(input_data).detach()\n",
    "\n",
    "print(\"Company A observed = 0, predicted =\", predicted_value)\n"
   ]
  },
  {
   "cell_type": "code",
   "execution_count": 22,
   "id": "638398a8-b4ec-4abe-89be-245125ca87ff",
   "metadata": {},
   "outputs": [],
   "source": [
    "## create the training data for the neural network.\n",
    "inputs = torch.tensor([[0., 0.5, 0.25, 1.], [1., 0.5, 0.25, 1.]])\n",
    "labels = torch.tensor([0., 1.])\n",
    "\n",
    "dataset = TensorDataset(inputs, labels) \n",
    "dataloader = DataLoader(dataset)"
   ]
  },
  {
   "cell_type": "code",
   "execution_count": 24,
   "id": "46c49fc6-03dc-4473-8fe2-79ba95b71d30",
   "metadata": {},
   "outputs": [
    {
     "name": "stderr",
     "output_type": "stream",
     "text": [
      "GPU available: True (cuda), used: True\n",
      "TPU available: False, using: 0 TPU cores\n",
      "HPU available: False, using: 0 HPUs\n",
      "You are using a CUDA device ('NVIDIA GeForce RTX 3050 Laptop GPU') that has Tensor Cores. To properly utilize them, you should set `torch.set_float32_matmul_precision('medium' | 'high')` which will trade-off precision for performance. For more details, read https://pytorch.org/docs/stable/generated/torch.set_float32_matmul_precision.html#torch.set_float32_matmul_precision\n",
      "LOCAL_RANK: 0 - CUDA_VISIBLE_DEVICES: [0]\n",
      "\n",
      "  | Name         | Type | Params | Mode\n",
      "---------------------------------------------\n",
      "  | other params | n/a  | 12     | n/a \n",
      "---------------------------------------------\n",
      "12        Trainable params\n",
      "0         Non-trainable params\n",
      "12        Total params\n",
      "0.000     Total estimated model params size (MB)\n",
      "0         Modules in train mode\n",
      "0         Modules in eval mode\n",
      "C:\\Users\\nithi\\anaconda3\\Lib\\site-packages\\lightning\\pytorch\\trainer\\connectors\\data_connector.py:425: The 'train_dataloader' does not have many workers which may be a bottleneck. Consider increasing the value of the `num_workers` argument` to `num_workers=7` in the `DataLoader` to improve performance.\n",
      "C:\\Users\\nithi\\anaconda3\\Lib\\site-packages\\lightning\\pytorch\\loops\\fit_loop.py:310: The number of training batches (2) is smaller than the logging interval Trainer(log_every_n_steps=50). Set a lower value for log_every_n_steps if you want to see logs for the training epoch.\n"
     ]
    },
    {
     "data": {
      "application/vnd.jupyter.widget-view+json": {
       "model_id": "b96896ec5bae46c1a5dbdf8464a13983",
       "version_major": 2,
       "version_minor": 0
      },
      "text/plain": [
       "Training: |                                                                                                | 0…"
      ]
     },
     "metadata": {},
     "output_type": "display_data"
    },
    {
     "name": "stderr",
     "output_type": "stream",
     "text": [
      "`Trainer.fit` stopped: `max_epochs=2000` reached.\n"
     ]
    }
   ],
   "source": [
    "trainer = L.Trainer(max_epochs=2000) # with default learning rate, 0.001 (this tiny learning rate makes learning slow)\n",
    "trainer.fit(model, train_dataloaders=dataloader)"
   ]
  },
  {
   "cell_type": "code",
   "execution_count": 27,
   "id": "004ff835-b8dc-454d-9891-8fa109566c76",
   "metadata": {},
   "outputs": [
    {
     "name": "stdout",
     "output_type": "stream",
     "text": [
      "\n",
      "Now let's compare the observed and predicted values...\n",
      "Company A: Observed = 0, Predicted = tensor(0.0008)\n",
      "Company B: Observed = 1, Predicted = tensor(0.9505)\n"
     ]
    }
   ],
   "source": [
    "print(\"\\nNow let's compare the observed and predicted values...\")\n",
    "print(\"Company A: Observed = 0, Predicted =\", model(torch.tensor([0., 0.5, 0.25, 1.])).detach())\n",
    "print(\"Company B: Observed = 1, Predicted =\", model(torch.tensor([1., 0.5, 0.25, 1.])).detach())"
   ]
  },
  {
   "cell_type": "code",
   "execution_count": 29,
   "id": "f61c4f72-2bf2-4cc9-bdb9-0eabafecdd46",
   "metadata": {},
   "outputs": [],
   "source": [
    "from pytorch_lightning.loggers import TensorBoardLogger\n",
    "logger = TensorBoardLogger(\"lightning_logs\", name=\"my_model\")"
   ]
  },
  {
   "cell_type": "code",
   "execution_count": null,
   "id": "22f90c6f-2fa8-44d0-a9f3-950a13bb4434",
   "metadata": {},
   "outputs": [],
   "source": [
    "## First, find where the most recent checkpoint files are stored\n",
    "path_to_checkpoint = trainer.checkpoint_callback.best_model_path ## By default, \"best\" = \"most recent\"\n",
    "print(\"The new trainer will start where the last left off, and the check point data is here: \" + \n",
    "      path_to_checkpoint + \"\\n\")\n",
    "\n",
    "## Then create a new Lightning Trainer\n",
    "trainer = L.Trainer(max_epochs=3000) # Before, max_epochs=2000, so, by setting it to 3000, we're adding 1000 more.\n",
    "## And then call fit() using the path to the most recent checkpoint files\n",
    "## so that we can pick up where we left off.\n",
    "trainer.fit(model, train_dataloaders=dataloader, ckpt_path=path_to_checkpoint)"
   ]
  },
  {
   "cell_type": "code",
   "execution_count": null,
   "id": "2f1ff1a9-2469-4001-b169-90f788cee7c6",
   "metadata": {},
   "outputs": [],
   "source": [
    "print(\"\\nNow let's compare the observed and predicted values...\")\n",
    "print(\"Company A: Observed = 0, Predicted =\", model(torch.tensor([0., 0.5, 0.25, 1.])).detach())\n",
    "print(\"Company B: Observed = 1, Predicted =\", model(torch.tensor([1., 0.5, 0.25, 1.])).detach())"
   ]
  },
  {
   "cell_type": "code",
   "execution_count": null,
   "id": "0d5e8fba-370b-47b6-a367-a166278b4dc3",
   "metadata": {},
   "outputs": [],
   "source": [
    "!tensorboard --logdir=lightning_log/"
   ]
  },
  {
   "cell_type": "code",
   "execution_count": null,
   "id": "a0d87434-5c9f-4c2e-9741-700ae8a742cc",
   "metadata": {},
   "outputs": [],
   "source": [
    "## First, find where the most recent checkpoint files are stored\n",
    "path_to_checkpoint = trainer.checkpoint_callback.best_model_path ## By default, \"best\" = \"most recent\"\n",
    "print(\"The new trainer will start where the last left off, and the check point data is here: \" + \n",
    "      path_to_checkpoint + \"\\n\")\n",
    "\n",
    "## Then create a new Lightning Trainer\n",
    "trainer = L.Trainer(max_epochs=5000) # Before, max_epochs=3000, so, by setting it to 5000, we're adding 2000 more.\n",
    "## And then call fit() using the path to the most recent checkpoint files\n",
    "## so that we can pick up where we left off.\n",
    "trainer.fit(model, train_dataloaders=dataloader, ckpt_path=path_to_checkpoint)"
   ]
  },
  {
   "cell_type": "code",
   "execution_count": 34,
   "id": "90fef0ce-d25e-4aad-95aa-351e854936aa",
   "metadata": {},
   "outputs": [
    {
     "name": "stdout",
     "output_type": "stream",
     "text": [
      "\n",
      "Now let's compare the observed and predicted values...\n",
      "Company A: Observed = 0, Predicted = tensor(0.0008)\n",
      "Company B: Observed = 1, Predicted = tensor(0.9505)\n"
     ]
    }
   ],
   "source": [
    "print(\"\\nNow let's compare the observed and predicted values...\")\n",
    "print(\"Company A: Observed = 0, Predicted =\", model(torch.tensor([0., 0.5, 0.25, 1.])).detach())\n",
    "print(\"Company B: Observed = 1, Predicted =\", model(torch.tensor([1., 0.5, 0.25, 1.])).detach())"
   ]
  },
  {
   "cell_type": "code",
   "execution_count": null,
   "id": "bdba9b15-4082-40c9-a68c-79e532f0b72e",
   "metadata": {},
   "outputs": [],
   "source": [
    "!tensorboard --logdir=lightning_log/"
   ]
  },
  {
   "cell_type": "code",
   "execution_count": null,
   "id": "377a0767-df07-4604-975b-d2b6f79d1b18",
   "metadata": {},
   "outputs": [],
   "source": [
    "import torch\n",
    "print(torch.cuda.is_available())\n"
   ]
  },
  {
   "cell_type": "code",
   "execution_count": null,
   "id": "1bd397cd-f44b-480c-91cc-cbce9daffaaf",
   "metadata": {},
   "outputs": [],
   "source": [
    "import torch\n",
    "\n",
    "print(\"GPU Available:\", torch.cuda.is_available())\n",
    "if torch.cuda.is_available():\n",
    "    print(\"GPU Name:\", torch.cuda.get_device_name(0))\n",
    "    print(\"CUDA Version:\", torch.version.cuda)\n",
    "    print(\"PyTorch Version:\", torch.__version__)\n",
    "    print(\"GPU Count:\", torch.cuda.device_count())\n"
   ]
  },
  {
   "cell_type": "code",
   "execution_count": null,
   "id": "3ff6c6eb-2532-4083-b55a-4c140a8adfbf",
   "metadata": {},
   "outputs": [],
   "source": [
    "import torch\n",
    "print(torch.__version__)\n",
    "print(torch.backends.cudnn.enabled)\n",
    "print(torch.cuda.is_available())\n"
   ]
  },
  {
   "cell_type": "code",
   "execution_count": null,
   "id": "c042a76d-cef2-4eaf-809f-cb284d62ac68",
   "metadata": {},
   "outputs": [],
   "source": []
  }
 ],
 "metadata": {
  "kernelspec": {
   "display_name": "Python 3 (ipykernel)",
   "language": "python",
   "name": "python3"
  },
  "language_info": {
   "codemirror_mode": {
    "name": "ipython",
    "version": 3
   },
   "file_extension": ".py",
   "mimetype": "text/x-python",
   "name": "python",
   "nbconvert_exporter": "python",
   "pygments_lexer": "ipython3",
   "version": "3.12.3"
  }
 },
 "nbformat": 4,
 "nbformat_minor": 5
}
